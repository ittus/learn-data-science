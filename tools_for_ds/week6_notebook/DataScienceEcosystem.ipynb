{
 "cells": [
  {
   "cell_type": "markdown",
   "id": "a5ecf25d-21b8-422b-85c5-ef4cc8e5fb93",
   "metadata": {},
   "source": [
    "# Data Science Tools and Ecosystem"
   ]
  },
  {
   "cell_type": "markdown",
   "id": "9d05f3d6-d8ed-45bc-9cd0-0e9edda503a3",
   "metadata": {},
   "source": [
    "**Objectives:**\n",
    "- List of popular language\n",
    "- List of popular libraries\n",
    "- List of DS tools\n",
    "- Explore coding in Notebook"
   ]
  },
  {
   "cell_type": "markdown",
   "id": "01ac2682-750b-41a1-ba44-5479116b0bfc",
   "metadata": {},
   "source": [
    "In this notebook, Data Science Tools and Ecosystem are summarized."
   ]
  },
  {
   "cell_type": "markdown",
   "id": "ae43646f-af04-48e2-bf3b-2cf2e22111ed",
   "metadata": {},
   "source": [
    "Some of the popular languages that Data Scientists use are:\n",
    "\n",
    "1. Python\n",
    "2. R\n",
    "3. Scala"
   ]
  },
  {
   "cell_type": "markdown",
   "id": "563bf4c9-d3ba-40fe-b87e-84e97f1cab3e",
   "metadata": {},
   "source": [
    "Some of the commonly used libraries used by Data Scientists include:\n",
    "\n",
    "1. pandas\n",
    "2. numpy\n",
    "3. matplotlib"
   ]
  },
  {
   "cell_type": "markdown",
   "id": "80ed2217-c731-4aa8-b2e0-c79c98618c0e",
   "metadata": {},
   "source": [
    "\n",
    "\n",
    "\n",
    "| Data Science Tools  |\n",
    "|---|\n",
    "| Jupyter notebook  |\n",
    "|  VSCode |\n",
    "| RStudio |\n"
   ]
  },
  {
   "cell_type": "markdown",
   "id": "d0f044df-e8ab-4ca3-9385-ff1d461fa175",
   "metadata": {},
   "source": [
    "### Below are a few examples of evaluating arithmetic expressions in Python"
   ]
  },
  {
   "cell_type": "code",
   "execution_count": 1,
   "id": "aa528c29-31ce-466f-bd13-635cd1d7dc01",
   "metadata": {},
   "outputs": [
    {
     "data": {
      "text/plain": [
       "17"
      ]
     },
     "execution_count": 1,
     "metadata": {},
     "output_type": "execute_result"
    }
   ],
   "source": [
    "# This a simple arithmetic expression to mutiply then add integers\n",
    "(3*4)+5"
   ]
  },
  {
   "cell_type": "code",
   "execution_count": 2,
   "id": "38fd23a8-3b77-40be-a30c-aad043689dab",
   "metadata": {},
   "outputs": [
    {
     "data": {
      "text/plain": [
       "3.3333333333333335"
      ]
     },
     "execution_count": 2,
     "metadata": {},
     "output_type": "execute_result"
    }
   ],
   "source": [
    "# This will convert 200 minutes to hours by diving by 60\n",
    "200 / 60"
   ]
  },
  {
   "cell_type": "markdown",
   "id": "f92617bb-4348-4be4-a642-3c980a37a1eb",
   "metadata": {},
   "source": [
    "## Author\n",
    "Thang Vu"
   ]
  },
  {
   "cell_type": "code",
   "execution_count": null,
   "id": "4885e227-51dd-4dc1-9ccd-539c1fc82d46",
   "metadata": {},
   "outputs": [],
   "source": []
  }
 ],
 "metadata": {
  "kernelspec": {
   "display_name": "Python 3 (ipykernel)",
   "language": "python",
   "name": "python3"
  },
  "language_info": {
   "codemirror_mode": {
    "name": "ipython",
    "version": 3
   },
   "file_extension": ".py",
   "mimetype": "text/x-python",
   "name": "python",
   "nbconvert_exporter": "python",
   "pygments_lexer": "ipython3",
   "version": "3.11.3"
  }
 },
 "nbformat": 4,
 "nbformat_minor": 5
}
